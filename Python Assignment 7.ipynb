{
 "cells": [
  {
   "cell_type": "code",
   "execution_count": 3,
   "id": "f7cd8ced",
   "metadata": {},
   "outputs": [
    {
     "name": "stdout",
     "output_type": "stream",
     "text": [
      "First variable is 500 & second variable is 200\n",
      "Addition: 500 + 200 = 700\n",
      "Subtraction: 500 - 200 = 300\n",
      "Multiplication: 500 * 200 = 100000\n",
      "Division: 500 / 200 = 2.5\n"
     ]
    }
   ],
   "source": [
    "#Question 1\n",
    "var1 = 500\n",
    "var2 = 200\n",
    "sum_value = var1+var2\n",
    "diff_value = var1-var2\n",
    "mul_value = var1*var2\n",
    "div_value = var1/var2\n",
    "print(\"First variable is {0} & second variable is {1}\".format(var1,var2))\n",
    "print(\"Addition: {0} + {1} = {2}\".format(var1,var2,sum_value))\n",
    "print(\"Subtraction: {0} - {1} = {2}\".format(var1,var2,diff_value))\n",
    "print(\"Multiplication: {0} * {1} = {2}\".format(var1,var2,mul_value))            \n",
    "print(\"Division: {0} / {1} = {2}\".format(var1,var2,div_value))"
   ]
  },
  {
   "cell_type": "markdown",
   "id": "56f0567a",
   "metadata": {},
   "source": [
    "2.Single '/' carries out float division whereas '//' carries out true division which is also called floor division. "
   ]
  },
  {
   "cell_type": "code",
   "execution_count": 4,
   "id": "41c9750f",
   "metadata": {},
   "outputs": [
    {
     "name": "stdout",
     "output_type": "stream",
     "text": [
      "Float division:  2.5\n",
      "True division:  2\n"
     ]
    }
   ],
   "source": [
    "#Question - 2(i)\n",
    "x = 15\n",
    "y = 6\n",
    "print(\"Float division: \",x/y)\n",
    "print(\"True division: \",x//y)"
   ]
  },
  {
   "cell_type": "markdown",
   "id": "b2357d5b",
   "metadata": {},
   "source": [
    "** operator is used for exponentiation or raising a number to a power whereas ^ operator is used for bitwise XOR operation"
   ]
  },
  {
   "cell_type": "code",
   "execution_count": 6,
   "id": "b6cf81da",
   "metadata": {},
   "outputs": [
    {
     "name": "stdout",
     "output_type": "stream",
     "text": [
      "225\n",
      "13\n"
     ]
    }
   ],
   "source": [
    "#Question - 2(ii)\n",
    "print(15**2)\n",
    "print(15^2)"
   ]
  },
  {
   "cell_type": "markdown",
   "id": "159a97e3",
   "metadata": {},
   "source": [
    "3.The logical operators in python are and, or, not. \n",
    "and - Returns True if both statements are True\n",
    "or - Returns True if any of the statements is True\n",
    "not - Reverses the result. Returns False if statement is True"
   ]
  },
  {
   "cell_type": "markdown",
   "id": "52c776e1",
   "metadata": {},
   "source": [
    "4.Bitwise right shift - The left operand's value is moved towards right by the number of bits specified by the right operand\n",
    "a>>x = (a/2^x)\n",
    "Bitwise left shift - The left operand's value is moved towards left by number of bits specified by the left operand\n",
    "a<<x = (a*2^x)"
   ]
  },
  {
   "cell_type": "code",
   "execution_count": 7,
   "id": "af18566c",
   "metadata": {},
   "outputs": [
    {
     "name": "stdout",
     "output_type": "stream",
     "text": [
      "Left shift:  40\n",
      "Right shift:  2\n"
     ]
    }
   ],
   "source": [
    "#Question 4\n",
    "print(\"Left shift: \",10<<2)\n",
    "print(\"Right shift: \",10>>2)"
   ]
  },
  {
   "cell_type": "code",
   "execution_count": 10,
   "id": "ec19757d",
   "metadata": {},
   "outputs": [
    {
     "name": "stdout",
     "output_type": "stream",
     "text": [
      "Length of the list:  15\n",
      "10 is present\n"
     ]
    }
   ],
   "source": [
    "#Question 5 \n",
    "list1= [100,20,40,50,10,120,12,63,56,45,89,54,99,21,66]\n",
    "print(\"Length of the list: \",len(list1))\n",
    "#Code to check if 10 is present or not\n",
    "if 10 in list1:\n",
    "    print(\"10 is present\")\n",
    "else:\n",
    "    print(\"10 is not present\")"
   ]
  }
 ],
 "metadata": {
  "kernelspec": {
   "display_name": "Python 3 (ipykernel)",
   "language": "python",
   "name": "python3"
  },
  "language_info": {
   "codemirror_mode": {
    "name": "ipython",
    "version": 3
   },
   "file_extension": ".py",
   "mimetype": "text/x-python",
   "name": "python",
   "nbconvert_exporter": "python",
   "pygments_lexer": "ipython3",
   "version": "3.9.6"
  }
 },
 "nbformat": 4,
 "nbformat_minor": 5
}
