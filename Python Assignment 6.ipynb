{
 "cells": [
  {
   "cell_type": "markdown",
   "id": "bf1f9216",
   "metadata": {},
   "source": [
    "# Python Assignment 6"
   ]
  },
  {
   "cell_type": "markdown",
   "id": "48472dc1",
   "metadata": {},
   "source": [
    "1.What are keywords in python? Using the keyword library, print all the python keywords.\n",
    "Ans: Keywords are special reserved words that have specific meaning and purposes and can't be used for anything but for those specific purposes"
   ]
  },
  {
   "cell_type": "code",
   "execution_count": 1,
   "id": "e98be1a1",
   "metadata": {},
   "outputs": [
    {
     "name": "stdout",
     "output_type": "stream",
     "text": [
      "Python Keywords are: \n",
      "['False', 'None', 'True', '__peg_parser__', 'and', 'as', 'assert', 'async', 'await', 'break', 'class', 'continue', 'def', 'del', 'elif', 'else', 'except', 'finally', 'for', 'from', 'global', 'if', 'import', 'in', 'is', 'lambda', 'nonlocal', 'not', 'or', 'pass', 'raise', 'return', 'try', 'while', 'with', 'yield']\n"
     ]
    }
   ],
   "source": [
    "#Question 1 code \n",
    "import keyword\n",
    "print(\"Python Keywords are: \")\n",
    "print(keyword.kwlist)"
   ]
  },
  {
   "cell_type": "markdown",
   "id": "ef698132",
   "metadata": {},
   "source": [
    "2.What are the rules to create variables in python?\n",
    "1. A variable name must start with a letter or underscore\n",
    "2. A variable cannot start with a digit\n",
    "3. A variable name must contain alphanumeric characters and underscores\n",
    "4. Variable names are case sensitive"
   ]
  },
  {
   "cell_type": "markdown",
   "id": "8c5addae",
   "metadata": {},
   "source": [
    "5.For defining constants use the variable names with all capital letters. Give better description for variable names. Use camel case or snake case for variable names and function names"
   ]
  },
  {
   "cell_type": "markdown",
   "id": "b686775f",
   "metadata": {},
   "source": [
    "4.We would get a syntax error if a keyword is used as variable name. "
   ]
  },
  {
   "cell_type": "markdown",
   "id": "9c97cae7",
   "metadata": {},
   "source": [
    "5.def keyword is used to define or create functions in Python. \n",
    "def function_name(parameters):\n",
    "    #statements\n",
    "    return expression"
   ]
  },
  {
   "cell_type": "markdown",
   "id": "04a71c31",
   "metadata": {},
   "source": [
    "6.Prefixing a special character with \"\\\" turns into an ordinary character. \n"
   ]
  },
  {
   "cell_type": "code",
   "execution_count": 10,
   "id": "3cbe64fc",
   "metadata": {},
   "outputs": [
    {
     "name": "stdout",
     "output_type": "stream",
     "text": [
      "It's cold outside\n"
     ]
    }
   ],
   "source": [
    "#6 - Example\n",
    "print(\"It\\'s cold outside\")"
   ]
  },
  {
   "cell_type": "markdown",
   "id": "66d3942f",
   "metadata": {},
   "source": [
    "7.Homogeneous list = [10,20,30,40,50]\n",
    "Heterogeneous set = {10, 'jeeshitha', True, 10.56}\n",
    "Homogeneous tupe = (10,20,30,40)"
   ]
  },
  {
   "cell_type": "markdown",
   "id": "edb2ca8c",
   "metadata": {},
   "source": [
    "8.Mutable objects are those that can be changed in place without affecting the object's identity, whereas immutable objects cannot be changed.\n",
    "List, Dictionary, Set are mutable data types whereas int, float, String, tuple, frozenset are immutable"
   ]
  },
  {
   "cell_type": "code",
   "execution_count": 9,
   "id": "86b17816",
   "metadata": {},
   "outputs": [
    {
     "ename": "TypeError",
     "evalue": "'tuple' object does not support item assignment",
     "output_type": "error",
     "traceback": [
      "\u001b[1;31m---------------------------------------------------------------------------\u001b[0m",
      "\u001b[1;31mTypeError\u001b[0m                                 Traceback (most recent call last)",
      "Input \u001b[1;32mIn [9]\u001b[0m, in \u001b[0;36m<cell line: 3>\u001b[1;34m()\u001b[0m\n\u001b[0;32m      1\u001b[0m \u001b[38;5;66;03m#8 - Example\u001b[39;00m\n\u001b[0;32m      2\u001b[0m tuple1 \u001b[38;5;241m=\u001b[39m (\u001b[38;5;241m10\u001b[39m,\u001b[38;5;241m20\u001b[39m,\u001b[38;5;241m30\u001b[39m,\u001b[38;5;241m40\u001b[39m)\n\u001b[1;32m----> 3\u001b[0m tuple1[\u001b[38;5;241m0\u001b[39m] \u001b[38;5;241m=\u001b[39m \u001b[38;5;241m100\u001b[39m \u001b[38;5;66;03m#This will throw an error\u001b[39;00m\n\u001b[0;32m      4\u001b[0m str1 \u001b[38;5;241m=\u001b[39m \u001b[38;5;124m\"\u001b[39m\u001b[38;5;124mJeeshitha\u001b[39m\u001b[38;5;124m\"\u001b[39m\n\u001b[0;32m      5\u001b[0m str1[\u001b[38;5;241m0\u001b[39m] \u001b[38;5;241m=\u001b[39m \u001b[38;5;124m'\u001b[39m\u001b[38;5;124mj\u001b[39m\u001b[38;5;124m'\u001b[39m\n",
      "\u001b[1;31mTypeError\u001b[0m: 'tuple' object does not support item assignment"
     ]
    }
   ],
   "source": [
    "#8 - Example\n",
    "tuple1 = (10,20,30,40)\n",
    "tuple1[0] = 100 #This will throw an error\n",
    "str1 = \"Jeeshitha\"\n",
    "str1[0] = 'j' #This will throw an error"
   ]
  },
  {
   "cell_type": "code",
   "execution_count": 8,
   "id": "ae7a8eac",
   "metadata": {},
   "outputs": [
    {
     "name": "stdout",
     "output_type": "stream",
     "text": [
      "[100, 250, 300, 400, 500]\n"
     ]
    }
   ],
   "source": [
    "#8 - Example (Contd)\n",
    "list1 = [100,200,300,400,500]\n",
    "list1[1] = 250 #This won't throw error because lists are mutable\n",
    "print(list1)"
   ]
  },
  {
   "cell_type": "code",
   "execution_count": 4,
   "id": "5f478b20",
   "metadata": {},
   "outputs": [
    {
     "name": "stdout",
     "output_type": "stream",
     "text": [
      "        * \n",
      "      * * * \n",
      "    * * * * * \n",
      "  * * * * * * * \n",
      "* * * * * * * * * \n"
     ]
    }
   ],
   "source": [
    "#Question 9\n",
    "n = 5\n",
    "k = 0\n",
    "for i in range(1,n+1):\n",
    "    for space in range(1,(n-i)+1):\n",
    "        print(end=\"  \")\n",
    "    while k!=(2*i-1):\n",
    "        print(\"* \",end=\"\")\n",
    "        k+=1\n",
    "    k=0\n",
    "    print()"
   ]
  },
  {
   "cell_type": "code",
   "execution_count": 6,
   "id": "1e37832c",
   "metadata": {},
   "outputs": [
    {
     "name": "stdout",
     "output_type": "stream",
     "text": [
      "|||||||\n",
      " |||||\n",
      "  |||\n",
      "   |\n"
     ]
    }
   ],
   "source": [
    "#Question 10\n",
    "n=5\n",
    "for i in range(n,1,-1):\n",
    "    for space in range(0,n-i):\n",
    "        print(\" \",end=\"\")\n",
    "    for j in range(i,2*i-1):\n",
    "        print(\"|\",end=\"\")\n",
    "    for j in range(1,i-1):\n",
    "        print(\"|\",end=\"\")\n",
    "    print()"
   ]
  }
 ],
 "metadata": {
  "kernelspec": {
   "display_name": "Python 3 (ipykernel)",
   "language": "python",
   "name": "python3"
  },
  "language_info": {
   "codemirror_mode": {
    "name": "ipython",
    "version": 3
   },
   "file_extension": ".py",
   "mimetype": "text/x-python",
   "name": "python",
   "nbconvert_exporter": "python",
   "pygments_lexer": "ipython3",
   "version": "3.9.6"
  }
 },
 "nbformat": 4,
 "nbformat_minor": 5
}
